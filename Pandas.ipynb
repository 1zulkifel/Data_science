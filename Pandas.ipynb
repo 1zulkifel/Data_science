{
 "cells": [
  {
   "cell_type": "markdown",
   "metadata": {},
   "source": [
    "# Pandas:\n",
    "    it is used for machien learning, Deeplearning ,for data science, data handling, data organizing and data analysis  . "
   ]
  },
  {
   "cell_type": "code",
   "execution_count": 3,
   "metadata": {},
   "outputs": [
    {
     "name": "stdout",
     "output_type": "stream",
     "text": [
      "0    1.0\n",
      "1    2.0\n",
      "2   -5.0\n",
      "3   -7.0\n",
      "4    0.5\n",
      "5    3.0\n",
      "dtype: float64\n"
     ]
    }
   ],
   "source": [
    "import pandas as pd\n",
    "obj=pd.Series([1,2,-5,-7,0.5,3])\n",
    "print(obj)# pandas returns valuse and index"
   ]
  },
  {
   "cell_type": "code",
   "execution_count": 4,
   "metadata": {},
   "outputs": [
    {
     "name": "stdout",
     "output_type": "stream",
     "text": [
      "[100 200   3 300 400]\n",
      "RangeIndex(start=0, stop=5, step=1)\n"
     ]
    }
   ],
   "source": [
    "#for values and index\n",
    "sales=pd.Series([100,200,3,300,400])\n",
    "print(sales.values)\n",
    "print(sales.index)"
   ]
  },
  {
   "cell_type": "code",
   "execution_count": 5,
   "metadata": {},
   "outputs": [
    {
     "name": "stdout",
     "output_type": "stream",
     "text": [
      "a    12\n",
      "b     1\n",
      "c     2\n",
      "d     3\n",
      "e     4\n",
      "dtype: int64\n",
      "[12  1  2  3  4]\n",
      "Index(['a', 'b', 'c', 'd', 'e'], dtype='object')\n"
     ]
    }
   ],
   "source": [
    "#we can change index\n",
    "sales=pd.Series([12,1,2,3,4],index=['a','b','c','d','e'])\n",
    "print(sales)\n",
    "print(sales.values)\n",
    "print(sales.index)"
   ]
  },
  {
   "cell_type": "code",
   "execution_count": 6,
   "metadata": {},
   "outputs": [
    {
     "name": "stdout",
     "output_type": "stream",
     "text": [
      "jan     12\n",
      "feb      1\n",
      "marc     2\n",
      "aprl     3\n",
      "may      4\n",
      "Name: 4 moth sales, dtype: int64\n"
     ]
    }
   ],
   "source": [
    "sales=pd.Series([12,1,2,3,4],index=['jan','feb','marc','aprl','may'],name='4 moth sales')\n",
    "print(sales)"
   ]
  },
  {
   "cell_type": "code",
   "execution_count": 7,
   "metadata": {},
   "outputs": [
    {
     "name": "stdout",
     "output_type": "stream",
     "text": [
      "mon     10\n",
      "tues    13\n",
      "wed     12\n",
      "thr     15\n",
      "fri     16\n",
      "sta     44\n",
      "sun      0\n",
      "dtype: int64\n",
      "12\n",
      "12\n"
     ]
    }
   ],
   "source": [
    "#canteen sales\n",
    "brgr=pd.Series([10,13,12,15,16,44,0],index=['mon','tues','wed','thr','fri','sta','sun'])\n",
    "print(brgr)\n",
    "print(brgr['wed'])#for acessing data\n",
    "print(brgr[2])"
   ]
  },
  {
   "cell_type": "code",
   "execution_count": 8,
   "metadata": {},
   "outputs": [
    {
     "name": "stdout",
     "output_type": "stream",
     "text": [
      "wed    12\n",
      "fri    16\n",
      "sun     0\n",
      "dtype: int64\n",
      "tues    13\n",
      "fri     16\n",
      "dtype: int64\n"
     ]
    }
   ],
   "source": [
    "#for multipple data\n",
    "print(brgr[[2,4,6]])\n",
    "print(brgr [['tues','fri']])"
   ]
  },
  {
   "cell_type": "code",
   "execution_count": 9,
   "metadata": {},
   "outputs": [
    {
     "name": "stdout",
     "output_type": "stream",
     "text": [
      "mon     False\n",
      "tues     True\n",
      "wed     False\n",
      "thr      True\n",
      "fri      True\n",
      "sta      True\n",
      "sun     False\n",
      "dtype: bool\n",
      "tues    13\n",
      "thr     15\n",
      "fri     16\n",
      "sta     44\n",
      "dtype: int64\n"
     ]
    }
   ],
   "source": [
    "#we can select data conditionaly\n",
    "print(brgr>12)#method 1\n",
    "print(brgr[brgr>12])"
   ]
  },
  {
   "cell_type": "code",
   "execution_count": 10,
   "metadata": {},
   "outputs": [
    {
     "name": "stdout",
     "output_type": "stream",
     "text": [
      "mon      30\n",
      "tues     39\n",
      "wed      36\n",
      "thr      45\n",
      "fri      48\n",
      "sta     132\n",
      "sun       0\n",
      "dtype: int64\n"
     ]
    }
   ],
   "source": [
    "brgr=brgr*3\n",
    "print(brgr)"
   ]
  },
  {
   "cell_type": "code",
   "execution_count": 11,
   "metadata": {},
   "outputs": [],
   "source": [
    "brgr=brgr/3"
   ]
  },
  {
   "cell_type": "code",
   "execution_count": 12,
   "metadata": {},
   "outputs": [
    {
     "data": {
      "text/plain": [
       "mon     10.0\n",
       "tues    13.0\n",
       "wed     12.0\n",
       "thr     15.0\n",
       "fri     16.0\n",
       "sta     44.0\n",
       "sun      0.0\n",
       "dtype: float64"
      ]
     },
     "execution_count": 12,
     "metadata": {},
     "output_type": "execute_result"
    }
   ],
   "source": [
    "brgr"
   ]
  },
  {
   "cell_type": "code",
   "execution_count": 13,
   "metadata": {},
   "outputs": [
    {
     "data": {
      "text/plain": [
       "a     12\n",
       "b     34\n",
       "c     55\n",
       "d     66\n",
       "e    777\n",
       "f     88\n",
       "g     12\n",
       "dtype: int64"
      ]
     },
     "execution_count": 13,
     "metadata": {},
     "output_type": "execute_result"
    }
   ],
   "source": [
    "#from numpy to pandas\n",
    "import numpy as np\n",
    "dta=np.array([12,34,55,66,777,88,12])\n",
    "ind=np.array(['a','b','c','d','e','f','g'])\n",
    "obj1=pd.Series(dta,index=ind)\n",
    "obj1\n"
   ]
  },
  {
   "cell_type": "code",
   "execution_count": null,
   "metadata": {},
   "outputs": [],
   "source": []
  },
  {
   "cell_type": "code",
   "execution_count": null,
   "metadata": {},
   "outputs": [],
   "source": []
  }
 ],
 "metadata": {
  "kernelspec": {
   "display_name": "Python 3",
   "language": "python",
   "name": "python3"
  },
  "language_info": {
   "codemirror_mode": {
    "name": "ipython",
    "version": 3
   },
   "file_extension": ".py",
   "mimetype": "text/x-python",
   "name": "python",
   "nbconvert_exporter": "python",
   "pygments_lexer": "ipython3",
   "version": "3.7.4"
  }
 },
 "nbformat": 4,
 "nbformat_minor": 2
}
