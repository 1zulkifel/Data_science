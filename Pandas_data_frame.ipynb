{
 "cells": [
  {
   "cell_type": "markdown",
   "metadata": {},
   "source": [
    "# Padas_data_frame\n",
    "collection of pandas series or multi-dimensional data is called data frame of pandas"
   ]
  },
  {
   "cell_type": "code",
   "execution_count": 6,
   "metadata": {},
   "outputs": [
    {
     "name": "stdout",
     "output_type": "stream",
     "text": [
      "   apple  banana\n",
      "0      1      11\n",
      "1      2      22\n",
      "2      3      33\n",
      "3      4      44\n",
      "4      5      55\n",
      "5      6      66\n"
     ]
    }
   ],
   "source": [
    "import pandas as pd\n",
    "apple=pd.Series([1,2,3,4,5,6,])\n",
    "banana=pd.Series([11,22,33,44,55,66])\n",
    "#print(banana,apple)\n",
    "data={'apple':apple,'banana':banana}\n",
    "fruit_df=pd.DataFrame(data)\n",
    "print(fruit_df)"
   ]
  },
  {
   "cell_type": "code",
   "execution_count": 7,
   "metadata": {},
   "outputs": [
    {
     "name": "stdout",
     "output_type": "stream",
     "text": [
      "    apple  banana\n",
      "a     3.0     NaN\n",
      "d     5.0     NaN\n",
      "f     4.0     NaN\n",
      "fr    NaN     7.0\n",
      "g     8.0     NaN\n",
      "h     9.0     NaN\n",
      "j     1.0     NaN\n",
      "mo    NaN     1.0\n",
      "s     2.0     NaN\n",
      "st    NaN     8.0\n",
      "su    NaN     2.0\n",
      "th    NaN     6.0\n",
      "tu    NaN     4.0\n",
      "we    NaN     3.0\n"
     ]
    }
   ],
   "source": [
    "\n",
    "apple=pd.Series([3,2,5,4,8,9,1],index=['a','s','d','f','g','h','j'])\n",
    "banana=pd.Series([1,4,3,6,7,8,2], index=['mo','tu','we','th','fr','st','su'])\n",
    "#print(banana,apple)\n",
    "data={'apple':apple,'banana':banana}\n",
    "fruit_df=pd.DataFrame(data)\n",
    "print(fruit_df)"
   ]
  },
  {
   "cell_type": "code",
   "execution_count": 12,
   "metadata": {},
   "outputs": [
    {
     "name": "stdout",
     "output_type": "stream",
     "text": [
      "False\n",
      "True\n"
     ]
    }
   ],
   "source": [
    "print('mo' in apple)\n",
    "print('st' in banana)"
   ]
  },
  {
   "cell_type": "code",
   "execution_count": 15,
   "metadata": {},
   "outputs": [
    {
     "data": {
      "text/html": [
       "<div>\n",
       "<style scoped>\n",
       "    .dataframe tbody tr th:only-of-type {\n",
       "        vertical-align: middle;\n",
       "    }\n",
       "\n",
       "    .dataframe tbody tr th {\n",
       "        vertical-align: top;\n",
       "    }\n",
       "\n",
       "    .dataframe thead th {\n",
       "        text-align: right;\n",
       "    }\n",
       "</style>\n",
       "<table border=\"1\" class=\"dataframe\">\n",
       "  <thead>\n",
       "    <tr style=\"text-align: right;\">\n",
       "      <th></th>\n",
       "      <th>dist</th>\n",
       "      <th>pop</th>\n",
       "      <th>years</th>\n",
       "    </tr>\n",
       "  </thead>\n",
       "  <tbody>\n",
       "    <tr>\n",
       "      <td>i</td>\n",
       "      <td>chitral</td>\n",
       "      <td>111</td>\n",
       "      <td>2015</td>\n",
       "    </tr>\n",
       "    <tr>\n",
       "      <td>ii</td>\n",
       "      <td>dir</td>\n",
       "      <td>2222</td>\n",
       "      <td>2016</td>\n",
       "    </tr>\n",
       "    <tr>\n",
       "      <td>iii</td>\n",
       "      <td>sawat</td>\n",
       "      <td>1111</td>\n",
       "      <td>2017</td>\n",
       "    </tr>\n",
       "    <tr>\n",
       "      <td>iv</td>\n",
       "      <td>mardan</td>\n",
       "      <td>2222</td>\n",
       "      <td>2018</td>\n",
       "    </tr>\n",
       "    <tr>\n",
       "      <td>v</td>\n",
       "      <td>sawabi</td>\n",
       "      <td>333</td>\n",
       "      <td>2019</td>\n",
       "    </tr>\n",
       "  </tbody>\n",
       "</table>\n",
       "</div>"
      ],
      "text/plain": [
       "        dist   pop  years\n",
       "i    chitral   111   2015\n",
       "ii       dir  2222   2016\n",
       "iii    sawat  1111   2017\n",
       "iv    mardan  2222   2018\n",
       "v     sawabi   333   2019"
      ]
     },
     "execution_count": 15,
     "metadata": {},
     "output_type": "execute_result"
    }
   ],
   "source": [
    "data_of_dist={'dist':['chitral','dir','sawat','mardan','sawabi'],\n",
    "     'pop':[111,2222,1111,2222,333,],\n",
    "     'years':[2015,2016,2017,2018,2019,]}\n",
    "dist_pop_df=pd.DataFrame(data_of_dist ,index=['i','ii','iii','iv','v'])\n",
    "dist_pop_df"
   ]
  },
  {
   "cell_type": "code",
   "execution_count": 16,
   "metadata": {},
   "outputs": [
    {
     "data": {
      "text/html": [
       "<div>\n",
       "<style scoped>\n",
       "    .dataframe tbody tr th:only-of-type {\n",
       "        vertical-align: middle;\n",
       "    }\n",
       "\n",
       "    .dataframe tbody tr th {\n",
       "        vertical-align: top;\n",
       "    }\n",
       "\n",
       "    .dataframe thead th {\n",
       "        text-align: right;\n",
       "    }\n",
       "</style>\n",
       "<table border=\"1\" class=\"dataframe\">\n",
       "  <thead>\n",
       "    <tr style=\"text-align: right;\">\n",
       "      <th></th>\n",
       "      <th>dist</th>\n",
       "      <th>pop</th>\n",
       "      <th>years</th>\n",
       "    </tr>\n",
       "  </thead>\n",
       "  <tbody>\n",
       "    <tr>\n",
       "      <td>i</td>\n",
       "      <td>chitral</td>\n",
       "      <td>111</td>\n",
       "      <td>2015</td>\n",
       "    </tr>\n",
       "    <tr>\n",
       "      <td>ii</td>\n",
       "      <td>dir</td>\n",
       "      <td>2222</td>\n",
       "      <td>2016</td>\n",
       "    </tr>\n",
       "    <tr>\n",
       "      <td>iii</td>\n",
       "      <td>sawat</td>\n",
       "      <td>1111</td>\n",
       "      <td>2017</td>\n",
       "    </tr>\n",
       "    <tr>\n",
       "      <td>iv</td>\n",
       "      <td>mardan</td>\n",
       "      <td>2222</td>\n",
       "      <td>2018</td>\n",
       "    </tr>\n",
       "    <tr>\n",
       "      <td>v</td>\n",
       "      <td>sawabi</td>\n",
       "      <td>333</td>\n",
       "      <td>2019</td>\n",
       "    </tr>\n",
       "  </tbody>\n",
       "</table>\n",
       "</div>"
      ],
      "text/plain": [
       "        dist   pop  years\n",
       "i    chitral   111   2015\n",
       "ii       dir  2222   2016\n",
       "iii    sawat  1111   2017\n",
       "iv    mardan  2222   2018\n",
       "v     sawabi   333   2019"
      ]
     },
     "execution_count": 16,
     "metadata": {},
     "output_type": "execute_result"
    }
   ],
   "source": [
    "dist_pop_df.head()# it will print top five elements"
   ]
  },
  {
   "cell_type": "code",
   "execution_count": 25,
   "metadata": {},
   "outputs": [
    {
     "data": {
      "text/html": [
       "<div>\n",
       "<style scoped>\n",
       "    .dataframe tbody tr th:only-of-type {\n",
       "        vertical-align: middle;\n",
       "    }\n",
       "\n",
       "    .dataframe tbody tr th {\n",
       "        vertical-align: top;\n",
       "    }\n",
       "\n",
       "    .dataframe thead th {\n",
       "        text-align: right;\n",
       "    }\n",
       "</style>\n",
       "<table border=\"1\" class=\"dataframe\">\n",
       "  <thead>\n",
       "    <tr style=\"text-align: right;\">\n",
       "      <th></th>\n",
       "      <th>dist</th>\n",
       "      <th>pop</th>\n",
       "      <th>years</th>\n",
       "      <th>debt</th>\n",
       "    </tr>\n",
       "  </thead>\n",
       "  <tbody>\n",
       "    <tr>\n",
       "      <td>i</td>\n",
       "      <td>chitral</td>\n",
       "      <td>111</td>\n",
       "      <td>2015</td>\n",
       "      <td>NaN</td>\n",
       "    </tr>\n",
       "    <tr>\n",
       "      <td>ii</td>\n",
       "      <td>dir</td>\n",
       "      <td>2222</td>\n",
       "      <td>2016</td>\n",
       "      <td>NaN</td>\n",
       "    </tr>\n",
       "    <tr>\n",
       "      <td>iii</td>\n",
       "      <td>sawat</td>\n",
       "      <td>1111</td>\n",
       "      <td>2017</td>\n",
       "      <td>NaN</td>\n",
       "    </tr>\n",
       "    <tr>\n",
       "      <td>iv</td>\n",
       "      <td>mardan</td>\n",
       "      <td>2222</td>\n",
       "      <td>2018</td>\n",
       "      <td>NaN</td>\n",
       "    </tr>\n",
       "    <tr>\n",
       "      <td>v</td>\n",
       "      <td>sawabi</td>\n",
       "      <td>333</td>\n",
       "      <td>2019</td>\n",
       "      <td>NaN</td>\n",
       "    </tr>\n",
       "  </tbody>\n",
       "</table>\n",
       "</div>"
      ],
      "text/plain": [
       "        dist   pop  years debt\n",
       "i    chitral   111   2015  NaN\n",
       "ii       dir  2222   2016  NaN\n",
       "iii    sawat  1111   2017  NaN\n",
       "iv    mardan  2222   2018  NaN\n",
       "v     sawabi   333   2019  NaN"
      ]
     },
     "execution_count": 25,
     "metadata": {},
     "output_type": "execute_result"
    }
   ],
   "source": [
    "dist_pop_df2=pd.DataFrame(data_of_dist ,columns=['dist','pop','years','debt'],index=['i','ii','iii','iv','v'])\n",
    "dist_pop_df2.head()"
   ]
  },
  {
   "cell_type": "code",
   "execution_count": 20,
   "metadata": {},
   "outputs": [
    {
     "name": "stdout",
     "output_type": "stream",
     "text": [
      "Index(['dist', 'pop', 'years', 'debt'], dtype='object')\n",
      "Index(['i', 'ii', 'iii', 'iv', 'v'], dtype='object')\n"
     ]
    }
   ],
   "source": [
    "print(dist_pop_df2.columns)\n",
    "print(dist_pop_df2.index)\n"
   ]
  },
  {
   "cell_type": "code",
   "execution_count": 21,
   "metadata": {},
   "outputs": [
    {
     "data": {
      "text/plain": [
       "i      chitral\n",
       "ii         dir\n",
       "iii      sawat\n",
       "iv      mardan\n",
       "v       sawabi\n",
       "Name: dist, dtype: object"
      ]
     },
     "execution_count": 21,
     "metadata": {},
     "output_type": "execute_result"
    }
   ],
   "source": [
    "#for accesing data\n",
    "dist_pop_df2['dist']"
   ]
  },
  {
   "cell_type": "code",
   "execution_count": 22,
   "metadata": {},
   "outputs": [
    {
     "data": {
      "text/plain": [
       "i      2015\n",
       "ii     2016\n",
       "iii    2017\n",
       "iv     2018\n",
       "v      2019\n",
       "Name: years, dtype: int64"
      ]
     },
     "execution_count": 22,
     "metadata": {},
     "output_type": "execute_result"
    }
   ],
   "source": [
    "dist_pop_df2.years#attribute like"
   ]
  },
  {
   "cell_type": "code",
   "execution_count": 23,
   "metadata": {},
   "outputs": [
    {
     "data": {
      "text/plain": [
       "dist     mardan\n",
       "pop        2222\n",
       "years      2018\n",
       "debt        NaN\n",
       "Name: iv, dtype: object"
      ]
     },
     "execution_count": 23,
     "metadata": {},
     "output_type": "execute_result"
    }
   ],
   "source": [
    "dist_pop_df2.loc['iv']"
   ]
  },
  {
   "cell_type": "code",
   "execution_count": 26,
   "metadata": {},
   "outputs": [
    {
     "name": "stdout",
     "output_type": "stream",
     "text": [
      "        dist   pop  years  debt\n",
      "i    chitral   111   2015     0\n",
      "ii       dir  2222   2016     1\n",
      "iii    sawat  1111   2017     2\n",
      "iv    mardan  2222   2018     3\n",
      "v     sawabi   333   2019     4\n"
     ]
    }
   ],
   "source": [
    "import numpy as np\n",
    "import pandas as pd\n",
    "dist_pop_df2=pd.DataFrame(data_of_dist ,columns=['dist','pop','years','debt'],index=['i','ii','iii','iv','v'])\n",
    "ln=len(dist_pop_df2)\n",
    "rnge=np.arange(ln)\n",
    "#print(dist_pop_df2)\n",
    "dist_pop_df2['debt']=rnge\n",
    "print(dist_pop_df2)"
   ]
  },
  {
   "cell_type": "code",
   "execution_count": 27,
   "metadata": {},
   "outputs": [],
   "source": [
    "vlue=pd.Series([0.01,0.71,0.112,0.45,0.732],index=['i','ii','iii','iv','v'])"
   ]
  },
  {
   "cell_type": "code",
   "execution_count": 28,
   "metadata": {},
   "outputs": [
    {
     "data": {
      "text/html": [
       "<div>\n",
       "<style scoped>\n",
       "    .dataframe tbody tr th:only-of-type {\n",
       "        vertical-align: middle;\n",
       "    }\n",
       "\n",
       "    .dataframe tbody tr th {\n",
       "        vertical-align: top;\n",
       "    }\n",
       "\n",
       "    .dataframe thead th {\n",
       "        text-align: right;\n",
       "    }\n",
       "</style>\n",
       "<table border=\"1\" class=\"dataframe\">\n",
       "  <thead>\n",
       "    <tr style=\"text-align: right;\">\n",
       "      <th></th>\n",
       "      <th>dist</th>\n",
       "      <th>pop</th>\n",
       "      <th>years</th>\n",
       "      <th>debt</th>\n",
       "    </tr>\n",
       "  </thead>\n",
       "  <tbody>\n",
       "    <tr>\n",
       "      <td>i</td>\n",
       "      <td>chitral</td>\n",
       "      <td>111</td>\n",
       "      <td>2015</td>\n",
       "      <td>0.010</td>\n",
       "    </tr>\n",
       "    <tr>\n",
       "      <td>ii</td>\n",
       "      <td>dir</td>\n",
       "      <td>2222</td>\n",
       "      <td>2016</td>\n",
       "      <td>0.710</td>\n",
       "    </tr>\n",
       "    <tr>\n",
       "      <td>iii</td>\n",
       "      <td>sawat</td>\n",
       "      <td>1111</td>\n",
       "      <td>2017</td>\n",
       "      <td>0.112</td>\n",
       "    </tr>\n",
       "    <tr>\n",
       "      <td>iv</td>\n",
       "      <td>mardan</td>\n",
       "      <td>2222</td>\n",
       "      <td>2018</td>\n",
       "      <td>0.450</td>\n",
       "    </tr>\n",
       "    <tr>\n",
       "      <td>v</td>\n",
       "      <td>sawabi</td>\n",
       "      <td>333</td>\n",
       "      <td>2019</td>\n",
       "      <td>0.732</td>\n",
       "    </tr>\n",
       "  </tbody>\n",
       "</table>\n",
       "</div>"
      ],
      "text/plain": [
       "        dist   pop  years   debt\n",
       "i    chitral   111   2015  0.010\n",
       "ii       dir  2222   2016  0.710\n",
       "iii    sawat  1111   2017  0.112\n",
       "iv    mardan  2222   2018  0.450\n",
       "v     sawabi   333   2019  0.732"
      ]
     },
     "execution_count": 28,
     "metadata": {},
     "output_type": "execute_result"
    }
   ],
   "source": [
    "dist_pop_df2['debt']=vlue\n",
    "dist_pop_df2"
   ]
  },
  {
   "cell_type": "code",
   "execution_count": null,
   "metadata": {},
   "outputs": [],
   "source": []
  }
 ],
 "metadata": {
  "kernelspec": {
   "display_name": "Python 3",
   "language": "python",
   "name": "python3"
  },
  "language_info": {
   "codemirror_mode": {
    "name": "ipython",
    "version": 3
   },
   "file_extension": ".py",
   "mimetype": "text/x-python",
   "name": "python",
   "nbconvert_exporter": "python",
   "pygments_lexer": "ipython3",
   "version": "3.7.4"
  }
 },
 "nbformat": 4,
 "nbformat_minor": 2
}
