{
 "cells": [
  {
   "cell_type": "markdown",
   "metadata": {},
   "source": [
    "# Pandas:\n",
    "    it is used for machien learning, Deeplearning ,for data science, data handling, data organizing and data analysis  . "
   ]
  },
  {
   "cell_type": "code",
   "execution_count": 2,
   "metadata": {},
   "outputs": [
    {
     "name": "stdout",
     "output_type": "stream",
     "text": [
      "0    1.0\n",
      "1    2.0\n",
      "2   -5.0\n",
      "3   -7.0\n",
      "4    0.5\n",
      "5    3.0\n",
      "dtype: float64\n"
     ]
    }
   ],
   "source": [
    "import pandas as pd\n",
    "obj=pd.Series([1,2,-5,-7,0.5,3])\n",
    "print(obj)# pandas returns valuse and index"
   ]
  },
  {
   "cell_type": "code",
   "execution_count": 3,
   "metadata": {},
   "outputs": [
    {
     "name": "stdout",
     "output_type": "stream",
     "text": [
      "[100 200   3 300 400]\n",
      "RangeIndex(start=0, stop=5, step=1)\n"
     ]
    }
   ],
   "source": [
    "#for values and index\n",
    "sales=pd.Series([100,200,3,300,400])\n",
    "print(sales.values)\n",
    "print(sales.index)"
   ]
  },
  {
   "cell_type": "code",
   "execution_count": 4,
   "metadata": {},
   "outputs": [
    {
     "name": "stdout",
     "output_type": "stream",
     "text": [
      "a    12\n",
      "b     1\n",
      "c     2\n",
      "d     3\n",
      "e     4\n",
      "dtype: int64\n",
      "[12  1  2  3  4]\n",
      "Index(['a', 'b', 'c', 'd', 'e'], dtype='object')\n"
     ]
    }
   ],
   "source": [
    "#we can change index\n",
    "sales=pd.Series([12,1,2,3,4],index=['a','b','c','d','e'])\n",
    "print(sales)\n",
    "print(sales.values)\n",
    "print(sales.index)"
   ]
  },
  {
   "cell_type": "code",
   "execution_count": 5,
   "metadata": {},
   "outputs": [
    {
     "name": "stdout",
     "output_type": "stream",
     "text": [
      "jan     12\n",
      "feb      1\n",
      "marc     2\n",
      "aprl     3\n",
      "may      4\n",
      "Name: 4 moth sales, dtype: int64\n"
     ]
    }
   ],
   "source": [
    "sales=pd.Series([12,1,2,3,4],index=['jan','feb','marc','aprl','may'],name='4 moth sales')\n",
    "print(sales)"
   ]
  },
  {
   "cell_type": "code",
   "execution_count": 6,
   "metadata": {},
   "outputs": [
    {
     "name": "stdout",
     "output_type": "stream",
     "text": [
      "mon     10\n",
      "tues    13\n",
      "wed     12\n",
      "thr     15\n",
      "fri     16\n",
      "sta     44\n",
      "sun      0\n",
      "dtype: int64\n",
      "12\n"
     ]
    }
   ],
   "source": [
    "#canteen sales\n",
    "brgr=pd.Series([10,13,12,15,16,44,0],index=['mon','tues','wed','thr','fri','sta','sun'])\n",
    "print(brgr)\n",
    "print(brgr['wed'])#for acessing data\n",
    "#print(brgr[2])"
   ]
  },
  {
   "cell_type": "code",
   "execution_count": 7,
   "metadata": {},
   "outputs": [
    {
     "name": "stdout",
     "output_type": "stream",
     "text": [
      "wed    12\n",
      "fri    16\n",
      "sun     0\n",
      "dtype: int64\n",
      "tues    13\n",
      "fri     16\n",
      "dtype: int64\n"
     ]
    }
   ],
   "source": [
    "#for multipple data\n",
    "print(brgr[[2,4,6]])\n",
    "print(brgr [['tues','fri']])"
   ]
  },
  {
   "cell_type": "code",
   "execution_count": 8,
   "metadata": {},
   "outputs": [
    {
     "name": "stdout",
     "output_type": "stream",
     "text": [
      "mon     False\n",
      "tues     True\n",
      "wed     False\n",
      "thr      True\n",
      "fri      True\n",
      "sta      True\n",
      "sun     False\n",
      "dtype: bool\n",
      "tues    13\n",
      "thr     15\n",
      "fri     16\n",
      "sta     44\n",
      "dtype: int64\n"
     ]
    }
   ],
   "source": [
    "#we can select data conditionaly\n",
    "print(brgr>12)#method 1\n",
    "print(brgr[brgr>12])"
   ]
  },
  {
   "cell_type": "code",
   "execution_count": 9,
   "metadata": {},
   "outputs": [
    {
     "name": "stdout",
     "output_type": "stream",
     "text": [
      "mon      30\n",
      "tues     39\n",
      "wed      36\n",
      "thr      45\n",
      "fri      48\n",
      "sta     132\n",
      "sun       0\n",
      "dtype: int64\n"
     ]
    }
   ],
   "source": [
    "brgr=brgr*3\n",
    "print(brgr)"
   ]
  },
  {
   "cell_type": "code",
   "execution_count": 10,
   "metadata": {},
   "outputs": [],
   "source": [
    "brgr=brgr/3"
   ]
  },
  {
   "cell_type": "code",
   "execution_count": 11,
   "metadata": {},
   "outputs": [
    {
     "data": {
      "text/plain": [
       "mon     10.0\n",
       "tues    13.0\n",
       "wed     12.0\n",
       "thr     15.0\n",
       "fri     16.0\n",
       "sta     44.0\n",
       "sun      0.0\n",
       "dtype: float64"
      ]
     },
     "execution_count": 11,
     "metadata": {},
     "output_type": "execute_result"
    }
   ],
   "source": [
    "brgr"
   ]
  },
  {
   "cell_type": "code",
   "execution_count": 12,
   "metadata": {},
   "outputs": [
    {
     "data": {
      "text/plain": [
       "False"
      ]
     },
     "execution_count": 12,
     "metadata": {},
     "output_type": "execute_result"
    }
   ],
   "source": [
    "#checking wether a series existing or not we just type name of a series\n",
    "'wed' in brgr\n",
    "'pet' in brgr\n"
   ]
  },
  {
   "cell_type": "code",
   "execution_count": 13,
   "metadata": {},
   "outputs": [
    {
     "data": {
      "text/plain": [
       "a     12\n",
       "b     34\n",
       "c     55\n",
       "d     66\n",
       "e    777\n",
       "f     88\n",
       "g     12\n",
       "dtype: int64"
      ]
     },
     "execution_count": 13,
     "metadata": {},
     "output_type": "execute_result"
    }
   ],
   "source": [
    "#from numpy to pandas\n",
    "import numpy as np\n",
    "dta=np.array([12,34,55,66,777,88,12])\n",
    "ind=np.array(['a','b','c','d','e','f','g'])\n",
    "obj1=pd.Series(dta,index=ind)\n",
    "obj1\n"
   ]
  },
  {
   "cell_type": "code",
   "execution_count": 15,
   "metadata": {},
   "outputs": [
    {
     "data": {
      "text/plain": [
       "True"
      ]
     },
     "execution_count": 15,
     "metadata": {},
     "output_type": "execute_result"
    }
   ],
   "source": [
    "'a' in obj1"
   ]
  },
  {
   "cell_type": "code",
   "execution_count": 16,
   "metadata": {},
   "outputs": [
    {
     "name": "stdout",
     "output_type": "stream",
     "text": [
      "ali      1222\n",
      "sher      222\n",
      "khan      123\n",
      "ahmad     444\n",
      "gull      555\n",
      "dtype: int64\n"
     ]
    },
    {
     "data": {
      "text/plain": [
       "Index(['ali', 'sher', 'khan', 'ahmad', 'gull'], dtype='object')"
      ]
     },
     "execution_count": 16,
     "metadata": {},
     "output_type": "execute_result"
    }
   ],
   "source": [
    "#from dictionary to pandas series\n",
    "home_tax={'ali':1222,\n",
    "         'sher':222,\n",
    "         'khan':123,\n",
    "         'ahmad':444,\n",
    "         'gull':555}\n",
    "tax_paid=pd.Series(home_tax)\n",
    "print(tax_paid)\n",
    "tax_paid.index"
   ]
  },
  {
   "cell_type": "code",
   "execution_count": 17,
   "metadata": {},
   "outputs": [
    {
     "data": {
      "text/plain": [
       "ahmad     444\n",
       "gull      555\n",
       "khan      123\n",
       "sher      222\n",
       "ali      1222\n",
       "dtype: int64"
      ]
     },
     "execution_count": 17,
     "metadata": {},
     "output_type": "execute_result"
    }
   ],
   "source": [
    "#if we change the index position the values remains same\n",
    "tax_paid=pd.Series(home_tax,index=['ahmad','gull','khan','sher','ali',])\n",
    "tax_paid"
   ]
  },
  {
   "cell_type": "code",
   "execution_count": 18,
   "metadata": {},
   "outputs": [
    {
     "data": {
      "text/plain": [
       "ahmad    False\n",
       "gull     False\n",
       "khan     False\n",
       "sher     False\n",
       "ali      False\n",
       "mir       True\n",
       "dtype: bool"
      ]
     },
     "execution_count": 18,
     "metadata": {},
     "output_type": "execute_result"
    }
   ],
   "source": [
    "#for identifying null value, NaN shows the null value\n",
    "tax_paid=pd.Series(home_tax,index=['ahmad','gull','khan','sher','ali','mir'])\n",
    "tax_paid\n",
    "pd.isnull(tax_paid)\n"
   ]
  },
  {
   "cell_type": "code",
   "execution_count": 19,
   "metadata": {},
   "outputs": [
    {
     "name": "stdout",
     "output_type": "stream",
     "text": [
      "home owner name\n",
      "ahmad     444.0\n",
      "gull      555.0\n",
      "khan      123.0\n",
      "sher      222.0\n",
      "ali      1222.0\n",
      "mir         NaN\n",
      "Name: tax paid by homes of a village, dtype: float64\n",
      "Index(['ahmad', 'gull', 'khan', 'sher', 'ali', 'mir'], dtype='object', name='home owner name')\n"
     ]
    }
   ],
   "source": [
    "tax_paid.name=\"tax paid by homes of a village\"\n",
    "tax_paid.index.name=\"home owner name\"\n",
    "print (tax_paid)\n",
    "print(tax_paid.index)"
   ]
  },
  {
   "cell_type": "code",
   "execution_count": 25,
   "metadata": {},
   "outputs": [
    {
     "name": "stdout",
     "output_type": "stream",
     "text": [
      "[[ 1.26924729  0.82145231 -0.65653703]\n",
      " [-0.28569201 -0.68133866  1.01112549]\n",
      " [ 0.64570037  1.65191983  0.98824684]\n",
      " [ 0.27107373 -0.32934182  0.29440374]\n",
      " [-0.43494823  1.28719108  0.91836204]\n",
      " [ 0.81921418  0.10232279  0.48940553]]\n",
      "------\n"
     ]
    },
    {
     "data": {
      "text/plain": [
       "array([[ 3.04331036,  1.73861125, -0.40277384],\n",
       "       [ 1.73861125,  5.64364227,  1.53949711],\n",
       "       [-0.40277384,  1.53949711,  3.59962763]])"
      ]
     },
     "execution_count": 25,
     "metadata": {},
     "output_type": "execute_result"
    }
   ],
   "source": [
    "arr4=np.random.randn(6,3)\n",
    "print(arr4)\n",
    "print('------')\n",
    "np.dot(arr4.T,arr4)"
   ]
  },
  {
   "cell_type": "code",
   "execution_count": 35,
   "metadata": {},
   "outputs": [
    {
     "ename": "AxisError",
     "evalue": "axis 4 is out of bounds for array of dimension 3",
     "output_type": "error",
     "traceback": [
      "\u001b[0;31m---------------------------------------------------------------------------\u001b[0m",
      "\u001b[0;31mAxisError\u001b[0m                                 Traceback (most recent call last)",
      "\u001b[0;32m<ipython-input-35-8cc7968b3aae>\u001b[0m in \u001b[0;36m<module>\u001b[0;34m\u001b[0m\n\u001b[1;32m      1\u001b[0m \u001b[0mar4\u001b[0m\u001b[0;34m=\u001b[0m\u001b[0mnp\u001b[0m\u001b[0;34m.\u001b[0m\u001b[0marange\u001b[0m\u001b[0;34m(\u001b[0m\u001b[0;36m12\u001b[0m\u001b[0;34m)\u001b[0m\u001b[0;34m.\u001b[0m\u001b[0mreshape\u001b[0m\u001b[0;34m(\u001b[0m\u001b[0;36m2\u001b[0m\u001b[0;34m,\u001b[0m\u001b[0;36m3\u001b[0m\u001b[0;34m,\u001b[0m\u001b[0;36m2\u001b[0m\u001b[0;34m)\u001b[0m\u001b[0;34m\u001b[0m\u001b[0;34m\u001b[0m\u001b[0m\n\u001b[1;32m      2\u001b[0m \u001b[0mar4\u001b[0m\u001b[0;34m\u001b[0m\u001b[0;34m\u001b[0m\u001b[0m\n\u001b[0;32m----> 3\u001b[0;31m \u001b[0mar4\u001b[0m\u001b[0;34m.\u001b[0m\u001b[0mtranspose\u001b[0m\u001b[0;34m(\u001b[0m\u001b[0;34m(\u001b[0m\u001b[0;36m1\u001b[0m\u001b[0;34m,\u001b[0m\u001b[0;36m4\u001b[0m\u001b[0;34m,\u001b[0m\u001b[0;36m0\u001b[0m\u001b[0;34m)\u001b[0m\u001b[0;34m)\u001b[0m\u001b[0;34m\u001b[0m\u001b[0;34m\u001b[0m\u001b[0m\n\u001b[0m",
      "\u001b[0;31mAxisError\u001b[0m: axis 4 is out of bounds for array of dimension 3"
     ]
    }
   ],
   "source": [
    "ar4=np.arange(12).reshape(2,3,2)\n",
    "ar4\n",
    "#ar4.transpose((1,4,0))"
   ]
  },
  {
   "cell_type": "code",
   "execution_count": null,
   "metadata": {},
   "outputs": [],
   "source": []
  }
 ],
 "metadata": {
  "kernelspec": {
   "display_name": "Python 3",
   "language": "python",
   "name": "python3"
  },
  "language_info": {
   "codemirror_mode": {
    "name": "ipython",
    "version": 3
   },
   "file_extension": ".py",
   "mimetype": "text/x-python",
   "name": "python",
   "nbconvert_exporter": "python",
   "pygments_lexer": "ipython3",
   "version": "3.7.4"
  }
 },
 "nbformat": 4,
 "nbformat_minor": 2
}
