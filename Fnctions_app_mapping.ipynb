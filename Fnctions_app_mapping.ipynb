{
 "cells": [
  {
   "cell_type": "code",
   "execution_count": 2,
   "metadata": {},
   "outputs": [
    {
     "name": "stdout",
     "output_type": "stream",
     "text": [
      "               a         b         c\n",
      "utah   -1.711892 -0.104050  0.550971\n",
      "ohio    0.472029 -0.190023 -2.732141\n",
      "taxas  -0.714269  0.908441 -0.130082\n",
      "oregon -0.995940  2.028431 -0.379576\n",
      "            a         b         c\n",
      "min -1.711892 -0.190023 -2.732141\n",
      "max  0.472029  2.028431  0.550971\n"
     ]
    }
   ],
   "source": [
    "import numpy as np\n",
    "import pandas as pd\n",
    "frame=frame=pd.DataFrame(np.random.randn(4,3),columns=list('abc'),index=['utah','ohio','taxas','oregon'])\n",
    "print(frame)\n",
    "#print(np.abs(frame))# it convert negative values into positive\n",
    "#print('value of b:=>',frame['b'].min())\n",
    "#print('vlue of a:=> ',frame['a'].max())\n",
    "#print('max c-min a:#',frame['c'].max()-frame['a'].min())\n",
    "f=lambda x:x.max()-x.min()# we do not need any value for function\n",
    "#df=frame.apply(f)\n",
    "#print(df,type(df))\n",
    "#df=frame.apply(f,axis=1)\n",
    "#print(df)\n",
    "\n",
    "# we can make our own function for calulating min and max values.\n",
    "def min_max(x):\n",
    "    minimum=x.min()\n",
    "    maximum=x.max()\n",
    "    return pd.Series([minimum,maximum],index=['min','max'])\n",
    "df=frame.apply(min_max)\n",
    "print(df)"
   ]
  },
  {
   "cell_type": "markdown",
   "metadata": {},
   "source": [
    "# sorting and ranking"
   ]
  },
  {
   "cell_type": "code",
   "execution_count": 32,
   "metadata": {},
   "outputs": [
    {
     "name": "stdout",
     "output_type": "stream",
     "text": [
      "        d   a   c\n",
      "zero    0   1   2\n",
      "one     3   4   5\n",
      "two     6   7   8\n",
      "three   9  10  11\n",
      "four   12  13  14\n",
      " '.' \n",
      "        d   c   a\n",
      "zero    0   2   1\n",
      "one     3   5   4\n",
      "two     6   8   7\n",
      "three   9  11  10\n",
      "four   12  14  13\n",
      " '.' \n",
      "        a   c   d\n",
      "zero    1   2   0\n",
      "one     4   5   3\n",
      "two     7   8   6\n",
      "three  10  11   9\n",
      "four   13  14  12\n",
      " '.' \n",
      "        d   a   c\n",
      "four   12  13  14\n",
      "one     3   4   5\n",
      "three   9  10  11\n",
      "two     6   7   8\n",
      "zero    0   1   2\n"
     ]
    }
   ],
   "source": [
    "import numpy as np\n",
    "import pandas as pd\n",
    "frame2=pd.DataFrame(np.arange(15).reshape((5,3)),\n",
    "                    index=['zero','one','two','three','four'],\n",
    "                   columns=['d','a','c'])\n",
    "print(frame2)\n",
    "print(\" '.' \")\n",
    "print(frame2.sort_index(axis=1,ascending=False,))#if you add axis it will sort Row\n",
    "print(\" '.' \")\n",
    "print(frame2.sort_index(axis=1,))\n",
    "print(\" '.' \")\n",
    "print(frame2.sort_index())# IT WILL sort columnwise"
   ]
  },
  {
   "cell_type": "code",
   "execution_count": 41,
   "metadata": {},
   "outputs": [
    {
     "name": "stdout",
     "output_type": "stream",
     "text": [
      "        d   a   c\n",
      "zero    0   1   2\n",
      "one     3   4   5\n",
      "two     6   7   8\n",
      "three   9  10  11\n",
      "four   12  13  14\n",
      " ',' \n",
      "         d    a    c\n",
      "zero   5.0  5.0  5.0\n",
      "one    4.0  4.0  4.0\n",
      "two    3.0  3.0  3.0\n",
      "three  2.0  2.0  2.0\n",
      "four   1.0  1.0  1.0\n",
      " ',' \n",
      "         d    a    c\n",
      "zero   5.0  5.0  5.0\n",
      "one    4.0  4.0  4.0\n",
      "two    3.0  3.0  3.0\n",
      "three  2.0  2.0  2.0\n",
      "four   1.0  1.0  1.0\n",
      " ',' \n",
      "         d    a    c\n",
      "zero   1.0  2.0  3.0\n",
      "one    1.0  2.0  3.0\n",
      "two    1.0  2.0  3.0\n",
      "three  1.0  2.0  3.0\n",
      "four   1.0  2.0  3.0\n"
     ]
    }
   ],
   "source": [
    "print(frame2.sort_values(by='c'))\n",
    "print(\" ',' \")\n",
    "print(frame2.rank(ascending=False,method='max',))\n",
    "print(\" ',' \")\n",
    "print(frame2.rank(ascending=False,method='min'))\n",
    "print(\" ',' \")\n",
    "print(frame2.rank(axis='columns'))"
   ]
  },
  {
   "cell_type": "markdown",
   "metadata": {},
   "source": [
    "## sumrizing and computing descriptive statustics"
   ]
  },
  {
   "cell_type": "code",
   "execution_count": 54,
   "metadata": {},
   "outputs": [
    {
     "name": "stdout",
     "output_type": "stream",
     "text": [
      "        s           d\n",
      "0  1.4000         NaN\n",
      "1  3.2000 -400231.000\n",
      "2     NaN         NaN\n",
      "3  0.5342       0.312\n",
      " \",\" \n",
      "s         5.1342\n",
      "d   -400230.6880\n",
      "dtype: float64\n",
      " \",\" \n",
      "s         5.1342\n",
      "d   -400230.6880\n",
      "dtype: float64\n"
     ]
    }
   ],
   "source": [
    "df=pd.DataFrame([\n",
    "    [1.4,np.nan],[3.2,-400231],\n",
    "    [np.nan,np.nan],[0.5342,0.312]],columns=['s','d'])\n",
    "\n",
    "print(df)\n",
    "print(' \",\" ')\n",
    "print(df.sum())\n",
    "print(' \",\" ')\n",
    "print(df.sum(axis=0))"
   ]
  },
  {
   "cell_type": "code",
   "execution_count": 3,
   "metadata": {},
   "outputs": [
    {
     "name": "stdout",
     "output_type": "stream",
     "text": [
      "        s         d\n",
      "0  1.4000       NaN\n",
      "1  3.2000 -0.400231\n",
      "2     NaN       NaN\n",
      "3  0.5342  0.312000\n",
      "'' \n",
      "0         NaN\n",
      "1    1.399885\n",
      "2         NaN\n",
      "3    0.423100\n",
      "dtype: float64\n"
     ]
    }
   ],
   "source": [
    "df=pd.DataFrame([\n",
    "    [1.4,np.nan],[3.2,-0.400231],\n",
    "    [np.nan,np.nan],[0.5342,0.312]],columns=['s','d'])\n",
    "print(df)\n",
    "print(\"'' \")\n",
    "print(df.mean(axis='columns',skipna=False))"
   ]
  },
  {
   "cell_type": "code",
   "execution_count": 14,
   "metadata": {},
   "outputs": [
    {
     "name": "stdout",
     "output_type": "stream",
     "text": [
      "   1st  2nd  3rd  4rth\n",
      "j  4.1  3.1  NaN   5.3\n",
      "k  NaN  4.1  4.1  1.08\n",
      "l  4.1  4.1    2   NaN\n",
      "m  NaN  1.1  2.1   5.2\n",
      "these are unique  [4.1 nan] [3.1 4.1 '1.1']\n"
     ]
    },
    {
     "data": {
      "text/plain": [
       "4.1    2\n",
       "3.1    1\n",
       "1.1    1\n",
       "Name: 2nd, dtype: int64"
      ]
     },
     "execution_count": 14,
     "metadata": {},
     "output_type": "execute_result"
    }
   ],
   "source": [
    "df1=pd.DataFrame([\n",
    "    [4.1,3.1,np.nan,5.3],[np.nan,4.1,4.1,1.08],[4.1,4.1,2,np.nan],[np.nan,'1.1','2.1','5.2']],\n",
    "    index=['j','k','l','m'],columns=['1st','2nd','3rd','4rth'])\n",
    "print(df1)\n",
    "print(\"these are unique \",df1['1st'].unique(),df1['2nd'].unique() )\n",
    "\n",
    "df1['2nd'].value_counts()\n"
   ]
  },
  {
   "cell_type": "code",
   "execution_count": 39,
   "metadata": {},
   "outputs": [
    {
     "name": "stdout",
     "output_type": "stream",
     "text": [
      "           one  two  three  four\n",
      "jingerate    0    1      2     3\n",
      "drosh        4    5      6     7\n",
      "chitral      8    9     10    11\n",
      "kpk         12   13     14    15 \n",
      "\n",
      "           two  three\n",
      "drosh        5      6\n",
      "jingerate    1      2\n",
      "           one  two  three  four\n",
      "jingerate    0    1      2     3\n",
      "drosh        4    5      6     7\n",
      "chitral      8    9     10    11\n",
      "kpk         12   13     14    15 \n",
      "\n",
      "four    7\n",
      "one     4\n",
      "two     5\n",
      "Name: drosh, dtype: int64\n",
      "           one  two  three  four\n",
      "jingerate    0    1      2     3\n",
      "drosh        4    5      6     7\n",
      "chitral      8    9     10    11\n",
      "kpk         12   13     14    15\n",
      "           one  two  three\n",
      "jingerate    0    1      2\n",
      "drosh        4    5      6\n",
      "chitral      8    9     10\n",
      "kpk         12   13     14\n",
      "           one  two  three  four\n",
      "jingerate    0    1      2     3\n",
      "drosh        4    5      6     7\n",
      "jingerate    False\n",
      "drosh        False\n",
      "chitral       True\n",
      "kpk           True\n",
      "Name: two, dtype: bool\n"
     ]
    }
   ],
   "source": [
    "import numpy as np\n",
    "import pandas as pd\n",
    "d_frm=pd.DataFrame(np.arange(16).reshape((4,4)),\n",
    "                   index=['jingerate','drosh','chitral','kpk'],\n",
    "                   columns=['one','two','three','four'])\n",
    "print(d_frm,\"\\n\")\n",
    "print(d_frm.loc[['drosh','jingerate'],['two','three']])#loc method specify rows label first\n",
    "print(d_frm,\"\\n\")                  \n",
    "print(d_frm.iloc[1,[3,0,1]],)# fancy slicing\n",
    "print(d_frm.iloc[:])\n",
    "print(d_frm.iloc[:,:3])#filter columns and rows data\n",
    "print(d_frm.iloc[:2])#for only rows\n",
    "print(d_frm.two>5)"
   ]
  },
  {
   "cell_type": "markdown",
   "metadata": {},
   "source": [
    "## Arithmetic and data alignment"
   ]
  },
  {
   "cell_type": "code",
   "execution_count": 69,
   "metadata": {},
   "outputs": [
    {
     "name": "stdout",
     "output_type": "stream",
     "text": [
      "     drosh  chitral  buni  mastuj\n",
      "i      0.0      1.0   2.0     3.0\n",
      "ii     4.0      5.0   6.0     7.0\n",
      "iii    8.0      9.0  10.0    11.0\n",
      "iv    12.0     13.0  14.0    15.0\n",
      "     drosh  peshwar  buni\n",
      "i      0.0      1.0   2.0\n",
      "ii     3.0      4.0   5.0\n",
      "iii    6.0      7.0   8.0\n",
      "iv     9.0     10.0  11.0\n"
     ]
    },
    {
     "data": {
      "text/html": [
       "<div>\n",
       "<style scoped>\n",
       "    .dataframe tbody tr th:only-of-type {\n",
       "        vertical-align: middle;\n",
       "    }\n",
       "\n",
       "    .dataframe tbody tr th {\n",
       "        vertical-align: top;\n",
       "    }\n",
       "\n",
       "    .dataframe thead th {\n",
       "        text-align: right;\n",
       "    }\n",
       "</style>\n",
       "<table border=\"1\" class=\"dataframe\">\n",
       "  <thead>\n",
       "    <tr style=\"text-align: right;\">\n",
       "      <th></th>\n",
       "      <th>buni</th>\n",
       "      <th>chitral</th>\n",
       "      <th>drosh</th>\n",
       "      <th>mastuj</th>\n",
       "      <th>peshwar</th>\n",
       "    </tr>\n",
       "  </thead>\n",
       "  <tbody>\n",
       "    <tr>\n",
       "      <td>i</td>\n",
       "      <td>1.000000</td>\n",
       "      <td>NaN</td>\n",
       "      <td>NaN</td>\n",
       "      <td>NaN</td>\n",
       "      <td>NaN</td>\n",
       "    </tr>\n",
       "    <tr>\n",
       "      <td>ii</td>\n",
       "      <td>1.200000</td>\n",
       "      <td>NaN</td>\n",
       "      <td>1.333333</td>\n",
       "      <td>NaN</td>\n",
       "      <td>NaN</td>\n",
       "    </tr>\n",
       "    <tr>\n",
       "      <td>iii</td>\n",
       "      <td>1.250000</td>\n",
       "      <td>NaN</td>\n",
       "      <td>1.333333</td>\n",
       "      <td>NaN</td>\n",
       "      <td>NaN</td>\n",
       "    </tr>\n",
       "    <tr>\n",
       "      <td>iv</td>\n",
       "      <td>1.272727</td>\n",
       "      <td>NaN</td>\n",
       "      <td>1.333333</td>\n",
       "      <td>NaN</td>\n",
       "      <td>NaN</td>\n",
       "    </tr>\n",
       "  </tbody>\n",
       "</table>\n",
       "</div>"
      ],
      "text/plain": [
       "         buni  chitral     drosh  mastuj  peshwar\n",
       "i    1.000000      NaN       NaN     NaN      NaN\n",
       "ii   1.200000      NaN  1.333333     NaN      NaN\n",
       "iii  1.250000      NaN  1.333333     NaN      NaN\n",
       "iv   1.272727      NaN  1.333333     NaN      NaN"
      ]
     },
     "execution_count": 69,
     "metadata": {},
     "output_type": "execute_result"
    }
   ],
   "source": [
    "import pandas as pd\n",
    "import numpy as np\n",
    "df_1=pd.DataFrame(np.arange(16.).reshape((4,4)),\n",
    "                columns=['drosh','chitral','buni','mastuj'],\n",
    "                index=['i','ii','iii','iv'])\n",
    "df_2=pd.DataFrame(np.arange(12.).reshape((4,3)),\n",
    "                columns=['drosh','peshwar','buni',],\n",
    "                index=['i','ii','iii','iv'])\n",
    "print(df_1)\n",
    "print(df_2)\n",
    "df_1+df_2# for addition column and index name must match\n",
    "#df_1*df_2\n",
    "#df_1/df_2"
   ]
  },
  {
   "cell_type": "code",
   "execution_count": 2,
   "metadata": {},
   "outputs": [
    {
     "ename": "ModuleNotFoundError",
     "evalue": "No module named 'pygal'",
     "output_type": "error",
     "traceback": [
      "\u001b[0;31m---------------------------------------------------------------------------\u001b[0m",
      "\u001b[0;31mModuleNotFoundError\u001b[0m                       Traceback (most recent call last)",
      "\u001b[0;32m<ipython-input-2-a30a1e84deac>\u001b[0m in \u001b[0;36m<module>\u001b[0;34m\u001b[0m\n\u001b[0;32m----> 1\u001b[0;31m \u001b[0;32mimport\u001b[0m \u001b[0mpygal\u001b[0m\u001b[0;34m\u001b[0m\u001b[0;34m\u001b[0m\u001b[0m\n\u001b[0m\u001b[1;32m      2\u001b[0m \u001b[0mwm\u001b[0m \u001b[0;34m=\u001b[0m \u001b[0mpygal\u001b[0m\u001b[0;34m.\u001b[0m\u001b[0mWorldmap\u001b[0m\u001b[0;34m(\u001b[0m\u001b[0;34m)\u001b[0m\u001b[0;34m\u001b[0m\u001b[0;34m\u001b[0m\u001b[0m\n\u001b[1;32m      3\u001b[0m \u001b[0mwm\u001b[0m\u001b[0;34m.\u001b[0m\u001b[0mtitle\u001b[0m \u001b[0;34m=\u001b[0m \u001b[0;34m'North, Central, and South America'\u001b[0m\u001b[0;34m\u001b[0m\u001b[0;34m\u001b[0m\u001b[0m\n\u001b[1;32m      4\u001b[0m \u001b[0mwm\u001b[0m\u001b[0;34m.\u001b[0m\u001b[0madd\u001b[0m\u001b[0;34m(\u001b[0m\u001b[0;34m'North America'\u001b[0m\u001b[0;34m,\u001b[0m \u001b[0;34m[\u001b[0m\u001b[0;34m'ca'\u001b[0m\u001b[0;34m,\u001b[0m \u001b[0;34m'mx'\u001b[0m\u001b[0;34m,\u001b[0m \u001b[0;34m'us'\u001b[0m\u001b[0;34m]\u001b[0m\u001b[0;34m)\u001b[0m\u001b[0;34m\u001b[0m\u001b[0;34m\u001b[0m\u001b[0m\n\u001b[1;32m      5\u001b[0m \u001b[0mwm\u001b[0m\u001b[0;34m.\u001b[0m\u001b[0madd\u001b[0m\u001b[0;34m(\u001b[0m\u001b[0;34m'Central America'\u001b[0m\u001b[0;34m,\u001b[0m \u001b[0;34m[\u001b[0m\u001b[0;34m'bz'\u001b[0m\u001b[0;34m,\u001b[0m \u001b[0;34m'cr'\u001b[0m\u001b[0;34m,\u001b[0m \u001b[0;34m'gt'\u001b[0m\u001b[0;34m,\u001b[0m \u001b[0;34m'hn'\u001b[0m\u001b[0;34m,\u001b[0m \u001b[0;34m'ni'\u001b[0m\u001b[0;34m,\u001b[0m \u001b[0;34m'pa'\u001b[0m\u001b[0;34m,\u001b[0m \u001b[0;34m'sv'\u001b[0m\u001b[0;34m]\u001b[0m\u001b[0;34m)\u001b[0m\u001b[0;34m\u001b[0m\u001b[0;34m\u001b[0m\u001b[0m\n",
      "\u001b[0;31mModuleNotFoundError\u001b[0m: No module named 'pygal'"
     ]
    }
   ],
   "source": [
    "import pygal\n",
    "wm = pygal.Worldmap()\n",
    "wm.title = 'North, Central, and South America'\n",
    "wm.add('North America', ['ca', 'mx', 'us'])\n",
    "wm.add('Central America', ['bz', 'cr', 'gt', 'hn', 'ni', 'pa', 'sv'])\n",
    "wm.add('South America', ['ar', 'bo', 'br', 'cl', 'co', 'ec', 'gf',\n",
    "'gy', 'pe', 'py', 'sr', 'uy', 've'])\n",
    "wm.render_to_file('americas.svg')"
   ]
  },
  {
   "cell_type": "code",
   "execution_count": null,
   "metadata": {},
   "outputs": [],
   "source": []
  }
 ],
 "metadata": {
  "kernelspec": {
   "display_name": "Python 3",
   "language": "python",
   "name": "python3"
  },
  "language_info": {
   "codemirror_mode": {
    "name": "ipython",
    "version": 3
   },
   "file_extension": ".py",
   "mimetype": "text/x-python",
   "name": "python",
   "nbconvert_exporter": "python",
   "pygments_lexer": "ipython3",
   "version": "3.7.4"
  }
 },
 "nbformat": 4,
 "nbformat_minor": 2
}
