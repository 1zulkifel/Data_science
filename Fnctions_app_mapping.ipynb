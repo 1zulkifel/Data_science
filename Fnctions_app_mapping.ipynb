{
 "cells": [
  {
   "cell_type": "code",
   "execution_count": 3,
   "metadata": {},
   "outputs": [
    {
     "name": "stdout",
     "output_type": "stream",
     "text": [
      "               a         b         c\n",
      "utah   -1.357795  0.164574 -1.111724\n",
      "ohio    0.977153 -0.932840 -1.350904\n",
      "taxas  -0.310829 -1.117572 -0.288066\n",
      "oregon -1.193654 -0.369825  0.062004\n",
      "            a         b         c\n",
      "min -1.357795 -1.117572 -1.350904\n",
      "max  0.977153  0.164574  0.062004\n"
     ]
    }
   ],
   "source": [
    "import numpy as np\n",
    "import pandas as pd\n",
    "frame=frame=pd.DataFrame(np.random.randn(4,3),columns=list('abc'),index=['utah','ohio','taxas','oregon'])\n",
    "print(frame)\n",
    "#print(np.abs(frame))# it convert negative values into positive\n",
    "#print('value of b:=>',frame['b'].min())\n",
    "#print('vlue of a:=> ',frame['a'].max())\n",
    "#print('max c-min a:#',frame['c'].max()-frame['a'].min())\n",
    "f=lambda x:x.max()-x.min()# we do not need any value for function\n",
    "#df=frame.apply(f)\n",
    "#print(df,type(df))\n",
    "#df=frame.apply(f,axis=1)\n",
    "#print(df)\n",
    "\n",
    "# we can make our own function for calulating min and max values.\n",
    "def min_max(x):\n",
    "    minimum=x.min()\n",
    "    maximum=x.max()\n",
    "    return pd.Series([minimum,maximum],index=['min','max'])\n",
    "df=frame.apply(min_max)\n",
    "print(df)"
   ]
  },
  {
   "cell_type": "markdown",
   "metadata": {},
   "source": [
    "# sorting and ranking"
   ]
  },
  {
   "cell_type": "code",
   "execution_count": 32,
   "metadata": {},
   "outputs": [
    {
     "name": "stdout",
     "output_type": "stream",
     "text": [
      "        d   a   c\n",
      "zero    0   1   2\n",
      "one     3   4   5\n",
      "two     6   7   8\n",
      "three   9  10  11\n",
      "four   12  13  14\n",
      " '.' \n",
      "        d   c   a\n",
      "zero    0   2   1\n",
      "one     3   5   4\n",
      "two     6   8   7\n",
      "three   9  11  10\n",
      "four   12  14  13\n",
      " '.' \n",
      "        a   c   d\n",
      "zero    1   2   0\n",
      "one     4   5   3\n",
      "two     7   8   6\n",
      "three  10  11   9\n",
      "four   13  14  12\n",
      " '.' \n",
      "        d   a   c\n",
      "four   12  13  14\n",
      "one     3   4   5\n",
      "three   9  10  11\n",
      "two     6   7   8\n",
      "zero    0   1   2\n"
     ]
    }
   ],
   "source": [
    "import numpy as np\n",
    "import pandas as pd\n",
    "frame2=pd.DataFrame(np.arange(15).reshape((5,3)),\n",
    "                    index=['zero','one','two','three','four'],\n",
    "                   columns=['d','a','c'])\n",
    "print(frame2)\n",
    "print(\" '.' \")\n",
    "print(frame2.sort_index(axis=1,ascending=False,))#if you add axis it will sort Row\n",
    "print(\" '.' \")\n",
    "print(frame2.sort_index(axis=1,))\n",
    "print(\" '.' \")\n",
    "print(frame2.sort_index())# IT WILL sort columnwise"
   ]
  },
  {
   "cell_type": "code",
   "execution_count": 41,
   "metadata": {},
   "outputs": [
    {
     "name": "stdout",
     "output_type": "stream",
     "text": [
      "        d   a   c\n",
      "zero    0   1   2\n",
      "one     3   4   5\n",
      "two     6   7   8\n",
      "three   9  10  11\n",
      "four   12  13  14\n",
      " ',' \n",
      "         d    a    c\n",
      "zero   5.0  5.0  5.0\n",
      "one    4.0  4.0  4.0\n",
      "two    3.0  3.0  3.0\n",
      "three  2.0  2.0  2.0\n",
      "four   1.0  1.0  1.0\n",
      " ',' \n",
      "         d    a    c\n",
      "zero   5.0  5.0  5.0\n",
      "one    4.0  4.0  4.0\n",
      "two    3.0  3.0  3.0\n",
      "three  2.0  2.0  2.0\n",
      "four   1.0  1.0  1.0\n",
      " ',' \n",
      "         d    a    c\n",
      "zero   1.0  2.0  3.0\n",
      "one    1.0  2.0  3.0\n",
      "two    1.0  2.0  3.0\n",
      "three  1.0  2.0  3.0\n",
      "four   1.0  2.0  3.0\n"
     ]
    }
   ],
   "source": [
    "print(frame2.sort_values(by='c'))\n",
    "print(\" ',' \")\n",
    "print(frame2.rank(ascending=False,method='max',))\n",
    "print(\" ',' \")\n",
    "print(frame2.rank(ascending=False,method='min'))\n",
    "print(\" ',' \")\n",
    "print(frame2.rank(axis='columns'))"
   ]
  },
  {
   "cell_type": "markdown",
   "metadata": {},
   "source": [
    "## sumrizing and computing descriptive statustics"
   ]
  },
  {
   "cell_type": "code",
   "execution_count": 54,
   "metadata": {},
   "outputs": [
    {
     "name": "stdout",
     "output_type": "stream",
     "text": [
      "        s           d\n",
      "0  1.4000         NaN\n",
      "1  3.2000 -400231.000\n",
      "2     NaN         NaN\n",
      "3  0.5342       0.312\n",
      " \",\" \n",
      "s         5.1342\n",
      "d   -400230.6880\n",
      "dtype: float64\n",
      " \",\" \n",
      "s         5.1342\n",
      "d   -400230.6880\n",
      "dtype: float64\n"
     ]
    }
   ],
   "source": [
    "df=pd.DataFrame([\n",
    "    [1.4,np.nan],[3.2,-400231],\n",
    "    [np.nan,np.nan],[0.5342,0.312]],columns=['s','d'])\n",
    "\n",
    "print(df)\n",
    "print(' \",\" ')\n",
    "print(df.sum())\n",
    "print(' \",\" ')\n",
    "print(df.sum(axis=0))"
   ]
  },
  {
   "cell_type": "code",
   "execution_count": 71,
   "metadata": {},
   "outputs": [
    {
     "name": "stdout",
     "output_type": "stream",
     "text": [
      "        s           d\n",
      "0  1.4000         NaN\n",
      "1  3.2000 -400231.000\n",
      "2     NaN         NaN\n",
      "3  0.5342       0.312\n",
      "'' \n",
      "0            NaN\n",
      "1   -200113.9000\n",
      "2            NaN\n",
      "3         0.4231\n",
      "dtype: float64\n"
     ]
    }
   ],
   "source": [
    "df=pd.DataFrame([\n",
    "    [1.4,np.nan],[3.2,-400231],\n",
    "    [np.nan,np.nan],[0.5342,0.312]],columns=['s','d'])\n",
    "print(df)\n",
    "print(\"'' \")\n",
    "print(df.mean(axis='columns',skipna=False))"
   ]
  },
  {
   "cell_type": "code",
   "execution_count": 79,
   "metadata": {},
   "outputs": [
    {
     "ename": "SyntaxError",
     "evalue": "unexpected EOF while parsing (<ipython-input-79-77e6720e44a9>, line 6)",
     "output_type": "error",
     "traceback": [
      "\u001b[0;36m  File \u001b[0;32m\"<ipython-input-79-77e6720e44a9>\"\u001b[0;36m, line \u001b[0;32m6\u001b[0m\n\u001b[0;31m    printdf1['2nd]'.value_counts()\u001b[0m\n\u001b[0m                                  ^\u001b[0m\n\u001b[0;31mSyntaxError\u001b[0m\u001b[0;31m:\u001b[0m unexpected EOF while parsing\n"
     ]
    }
   ],
   "source": [
    "df1=pd.DataFrame([\n",
    "    [1.2,3.1,np.nan,5.3],[np.nan,2.2,4.1,1.1],[1.1,4,2,np.nan],[np.nan,'1.1','2.1','5.2']],\n",
    "    index=['j','k','l','m'],columns=['1st','2nd','3rd','4rth'])\n",
    "print(df1)\n",
    "print(\"these are unique \",df1['2nd'].unique(),df1['3rd'].unique() )\n",
    "printdf1['2nd]'.value_counts()\n"
   ]
  },
  {
   "cell_type": "code",
   "execution_count": null,
   "metadata": {},
   "outputs": [],
   "source": []
  },
  {
   "cell_type": "code",
   "execution_count": null,
   "metadata": {},
   "outputs": [],
   "source": []
  }
 ],
 "metadata": {
  "kernelspec": {
   "display_name": "Python 3",
   "language": "python",
   "name": "python3"
  },
  "language_info": {
   "codemirror_mode": {
    "name": "ipython",
    "version": 3
   },
   "file_extension": ".py",
   "mimetype": "text/x-python",
   "name": "python",
   "nbconvert_exporter": "python",
   "pygments_lexer": "ipython3",
   "version": "3.7.4"
  }
 },
 "nbformat": 4,
 "nbformat_minor": 2
}
