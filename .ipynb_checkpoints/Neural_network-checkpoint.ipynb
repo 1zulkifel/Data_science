{
 "cells": [
  {
   "cell_type": "markdown",
   "metadata": {},
   "source": [
    "### Task Lists\n",
    "\n",
    "- [x] <font color='red'>Broadcasting\n",
    "- [x] Tensor dot\n",
    "- [x] Tensor reshaping\n",
    "- [x] Geometric interpretation of tensor operations\n",
    "- [x] A geometric interpretation of deep learning\n",
    "- [x] The engine of neural networks: gradient-based optimization\n",
    "- [x] What’s a derivative?\n",
    "- [x] Derivative of a tensor operation: the gradient\n",
    "- [x] Stochastic gradient descent\n",
    "- [x] Chaining derivatives: the Backpropagation algorithm<font/>"
   ]
  },
  {
   "cell_type": "markdown",
   "metadata": {},
   "source": [
    "# Broadcasting\n",
    "Adding  tensor"
   ]
  },
  {
   "cell_type": "code",
   "execution_count": null,
   "metadata": {},
   "outputs": [],
   "source": []
  }
 ],
 "metadata": {
  "kernelspec": {
   "display_name": "Python 3",
   "language": "python",
   "name": "python3"
  },
  "language_info": {
   "codemirror_mode": {
    "name": "ipython",
    "version": 3
   },
   "file_extension": ".py",
   "mimetype": "text/x-python",
   "name": "python",
   "nbconvert_exporter": "python",
   "pygments_lexer": "ipython3",
   "version": "3.7.4"
  }
 },
 "nbformat": 4,
 "nbformat_minor": 2
}
